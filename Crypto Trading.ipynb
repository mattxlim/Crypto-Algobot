{
 "cells": [
  {
   "cell_type": "code",
   "execution_count": 1,
   "metadata": {},
   "outputs": [],
   "source": [
    "import pandas as pd\n",
    "import sqlalchemy\n",
    "from binance.client import Client\n",
    "from binance import BinanceSocketManager\n",
    "import config"
   ]
  },
  {
   "cell_type": "code",
   "execution_count": 2,
   "metadata": {},
   "outputs": [],
   "source": [
    "client = Client(config.api_key, config.api_secret)"
   ]
  },
  {
   "cell_type": "code",
   "execution_count": 3,
   "metadata": {},
   "outputs": [],
   "source": [
    "engine = sqlalchemy.create_engine('sqlite:///MATICUSDTstream.db')"
   ]
  },
  {
   "cell_type": "code",
   "execution_count": 26,
   "metadata": {},
   "outputs": [],
   "source": [
    "df = pd.read_sql('MATICUSDT', engine)"
   ]
  },
  {
   "cell_type": "code",
   "execution_count": 27,
   "metadata": {},
   "outputs": [
    {
     "data": {
      "text/plain": [
       "<AxesSubplot:>"
      ]
     },
     "execution_count": 27,
     "metadata": {},
     "output_type": "execute_result"
    },
    {
     "data": {
      "image/png": "[encoded data removed]",
      "text/plain": [
       "<Figure size 432x288 with 1 Axes>"
      ]
     },
     "metadata": {
      "needs_background": "light"
     },
     "output_type": "display_data"
    }
   ],
   "source": [
    "df.Price.plot()"
   ]
  },
  {
   "cell_type": "code",
   "execution_count": 28,
   "metadata": {},
   "outputs": [],
   "source": [
    "# Algorithm to be used\n",
    "# Trendfollowing strategy\n",
    "# If the coin rises by certain %, buy\n",
    "# Exit when profit is > 0.15% or loss < 0.15%\n",
    "def trendfollowing(entry, timesteps, qty, open_position=False):\n",
    "    while True:\n",
    "        # Requesting live data from db\n",
    "        df = pd.read_sql('MATICUSDT', engine)\n",
    "        # Filter time period\n",
    "        period = df.iloc[-timesteps:]\n",
    "        # Summing returns for the look back period\n",
    "        cumret = (period.Price.pct_change() +1).cumprod() - 1\n",
    "\n",
    "        # Buying position\n",
    "        if not open_position:\n",
    "            # Place buy order once cumulative return between time increases by entry %\n",
    "            if cumret[cumret.last_valid_index()] > entry:\n",
    "                order = client.create_order(symbol='MATICUSDT', side='BUY', type='MARKET', quantity=qty)\n",
    "                print(order)\n",
    "                open_position = True\n",
    "                break\n",
    "        \n",
    "    # Selling position\n",
    "    if open_position:\n",
    "        while True:\n",
    "            # Requesting live data from db\n",
    "            df = pd.read_sql('MATICUSDT', engine)\n",
    "            # Timesteps after buying coin\n",
    "            afterBuy = df.loc[df.Time > pd.to_datetime(order['transactTime'], unit='ms')]\n",
    "\n",
    "            if len(afterBuy) > 1:\n",
    "                # Calculate return after buying coin\n",
    "                afterBuyRet = (afterBuy.Price.pct_change() + 1).cumprod() - 1\n",
    "                # Cumulative return since buying\n",
    "                cumretsb = afterBuyRet[afterBuyRet.last_valid_index()]\n",
    "                if cumretsb > 0.0015 or cumretsb < -0.0015:\n",
    "                    order = client.create_order(symbol='MATICUSDT', side='SELL', type='MARKET', quantity=qty)\n",
    "                    print(order)\n",
    "                    break"
   ]
  },
  {
   "cell_type": "code",
   "execution_count": null,
   "metadata": {},
   "outputs": [],
   "source": [
    "trendfollowing(0.001, 60, )"
   ]
  }
 ],
 "metadata": {
  "interpreter": {
   "hash": "859f011d3e70513a7c768aa23e5b58065355b9f588afc5ac42fbbd213ed17d66"
  },
  "kernelspec": {
   "display_name": "Python 3.8.3 64-bit (conda)",
   "name": "python3"
  },
  "language_info": {
   "codemirror_mode": {
    "name": "ipython",
    "version": 3
   },
   "file_extension": ".py",
   "mimetype": "text/x-python",
   "name": "python",
   "nbconvert_exporter": "python",
   "pygments_lexer": "ipython3",
   "version": "3.8.3"
  },
  "orig_nbformat": 4
 },
 "nbformat": 4,
 "nbformat_minor": 2
}
